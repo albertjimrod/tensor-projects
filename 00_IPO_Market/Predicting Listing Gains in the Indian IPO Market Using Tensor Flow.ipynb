{
 "cells": [
  {
   "cell_type": "markdown",
   "id": "007059a5-21e0-4b58-aa04-db5187f13764",
   "metadata": {},
   "source": [
    "## Predicting listing gains in the Indian IPO Market using TensorFlow\n",
    "\n",
    "\n",
    "![IPO](https://akm-img-a-in.tosshub.com/businesstoday/images/story/202110/ipo-1200-sixteen_nine.jpg?size=948:533)\n",
    "\n",
    "### Context:\n",
    "\n",
    "An investment firm is interested in investing in Initial Public Offerings (IPOs) in the Indian market. Their task is to create a deep learning classification model to determine if there will be listing gains for the IPO. Listing earnings are the percentage increase in a company's share price from its IPO issue price on the day of listing.\n",
    "\n",
    "The dataset we'll be using for this project contains information on past IPOs in the Indian market and comes from [moneycontrol ](https://www.moneycontrol.com/ipo/ipo-historic-table?classic=true).\n",
    "\n",
    "We'll cover all the main steps in modeling, starting with exploratory data analysis, visualizing important variables, and finally creating a deep learning classification model.\n",
    "\n",
    "<br>\n",
    "\n",
    "### Data Dictionary\n",
    "\n",
    "The data consists of following columns:\n",
    "\n",
    "- `Date`: date when the IPO was listed.\n",
    "\n",
    "\n",
    "- `IPOName (IPO Name)`: This is simply the name of the Initial Public Offering (IPO). It is the name of the company that is issuing shares publicly for the first time.\n",
    "\n",
    "\n",
    "- `Issue_Size`(Issue Size)`: Refers to the total amount of money the company is seeking to raise by issuing shares in the IPO. It is given in millions of rupees.\n",
    "\n",
    "- `Subscription_QIB` (QIB Investor Category Subscription): This is the number of times the shares offered in the IPO were requested by qualified institutional investors (QIBs).\n",
    "\n",
    "- `Subscription_HNI` (HNI Investor Category Subscription): This is the number of times the shares offered in the IPO were solicited by high-net-worth individuals (HNIs).\n",
    "\n",
    "- `Subscription_RII` (RII Investor Category Subscription): This is the number of times the shares offered in the IPO were requested by individual retail investors.\n",
    "\n",
    "- `Subscription_Total`: It is the total number of times the shares offered in the IPO were requested by all types of investors.\n",
    "\n",
    "- `Issue_Price`: It is the price at which the shares were issued by the company during the IPO. It is given in Indian rupees (INR).\n",
    "\n",
    "- `Listing_Gains_Percent` (Percentage of profit in the quote): It is the percentage of profit that is obtained when the listing price of the shares on the secondary market (after the IPO) is higher than the issue price during the IPO.\n",
    "\n",
    "The dataset is available under the file name **Indian_IPO_Market_Data.csv**."
   ]
  },
  {
   "cell_type": "code",
   "execution_count": 1,
   "id": "61f1c377-8720-4ef8-b9be-c7eeec6a81a3",
   "metadata": {},
   "outputs": [],
   "source": [
    "# Loading libraries\n",
    "\n",
    "import numpy as np \n",
    "import pandas as pd \n",
    "import seaborn as sns\n",
    "import matplotlib.pyplot as plt\n",
    "import tensorflow as tf\n",
    "from tensorflow import keras\n",
    "from tensorflow.keras import layers\n",
    "from sklearn.model_selection import train_test_split"
   ]
  },
  {
   "cell_type": "code",
   "execution_count": 2,
   "id": "a659c172-7725-4f4e-958f-3a611aab9c03",
   "metadata": {},
   "outputs": [],
   "source": [
    "# Load dataset\n",
    "\n",
    "df = pd.read_csv(\"csv/Indian_IPO_Market_Data.csv\")"
   ]
  },
  {
   "cell_type": "code",
   "execution_count": 3,
   "id": "1b69092c-b7cd-4b55-98bf-42f79c1a3fda",
   "metadata": {},
   "outputs": [
    {
     "data": {
      "text/html": [
       "<div>\n",
       "<style scoped>\n",
       "    .dataframe tbody tr th:only-of-type {\n",
       "        vertical-align: middle;\n",
       "    }\n",
       "\n",
       "    .dataframe tbody tr th {\n",
       "        vertical-align: top;\n",
       "    }\n",
       "\n",
       "    .dataframe thead th {\n",
       "        text-align: right;\n",
       "    }\n",
       "</style>\n",
       "<table border=\"1\" class=\"dataframe\">\n",
       "  <thead>\n",
       "    <tr style=\"text-align: right;\">\n",
       "      <th></th>\n",
       "      <th>Date</th>\n",
       "      <th>IPOName</th>\n",
       "      <th>Issue_Size</th>\n",
       "      <th>Subscription_QIB</th>\n",
       "      <th>Subscription_HNI</th>\n",
       "      <th>Subscription_RII</th>\n",
       "      <th>Subscription_Total</th>\n",
       "      <th>Issue_Price</th>\n",
       "      <th>Listing_Gains_Percent</th>\n",
       "    </tr>\n",
       "  </thead>\n",
       "  <tbody>\n",
       "    <tr>\n",
       "      <th>299</th>\n",
       "      <td>31/01/22</td>\n",
       "      <td>AGS Transact</td>\n",
       "      <td>716.87</td>\n",
       "      <td>2.68</td>\n",
       "      <td>25.61</td>\n",
       "      <td>3.08</td>\n",
       "      <td>7.79</td>\n",
       "      <td>175</td>\n",
       "      <td>-7.83</td>\n",
       "    </tr>\n",
       "    <tr>\n",
       "      <th>25</th>\n",
       "      <td>21/05/10</td>\n",
       "      <td>Jaypee Infra</td>\n",
       "      <td>1650.00</td>\n",
       "      <td>1.77</td>\n",
       "      <td>1.15</td>\n",
       "      <td>0.61</td>\n",
       "      <td>1.24</td>\n",
       "      <td>102</td>\n",
       "      <td>-10.49</td>\n",
       "    </tr>\n",
       "    <tr>\n",
       "      <th>43</th>\n",
       "      <td>12/10/10</td>\n",
       "      <td>Tecpro Systems</td>\n",
       "      <td>268.03</td>\n",
       "      <td>27.99</td>\n",
       "      <td>62.48</td>\n",
       "      <td>9.07</td>\n",
       "      <td>24.47</td>\n",
       "      <td>355</td>\n",
       "      <td>14.89</td>\n",
       "    </tr>\n",
       "    <tr>\n",
       "      <th>156</th>\n",
       "      <td>09/12/16</td>\n",
       "      <td>Sheela Foam</td>\n",
       "      <td>178.50</td>\n",
       "      <td>14.51</td>\n",
       "      <td>3.35</td>\n",
       "      <td>0.44</td>\n",
       "      <td>5.09</td>\n",
       "      <td>730</td>\n",
       "      <td>41.37</td>\n",
       "    </tr>\n",
       "    <tr>\n",
       "      <th>61</th>\n",
       "      <td>10/02/11</td>\n",
       "      <td>Omkar Special</td>\n",
       "      <td>79.38</td>\n",
       "      <td>0.82</td>\n",
       "      <td>5.27</td>\n",
       "      <td>9.90</td>\n",
       "      <td>4.67</td>\n",
       "      <td>98</td>\n",
       "      <td>-52.86</td>\n",
       "    </tr>\n",
       "  </tbody>\n",
       "</table>\n",
       "</div>"
      ],
      "text/plain": [
       "        Date          IPOName  Issue_Size  Subscription_QIB  Subscription_HNI  \\\n",
       "299  31/01/22    AGS Transact      716.87              2.68             25.61   \n",
       "25   21/05/10    Jaypee Infra     1650.00              1.77              1.15   \n",
       "43   12/10/10  Tecpro Systems      268.03             27.99             62.48   \n",
       "156  09/12/16     Sheela Foam      178.50             14.51              3.35   \n",
       "61   10/02/11   Omkar Special       79.38              0.82              5.27   \n",
       "\n",
       "     Subscription_RII  Subscription_Total  Issue_Price  Listing_Gains_Percent  \n",
       "299              3.08                7.79          175                  -7.83  \n",
       "25               0.61                1.24          102                 -10.49  \n",
       "43               9.07               24.47          355                  14.89  \n",
       "156              0.44                5.09          730                  41.37  \n",
       "61               9.90                4.67           98                 -52.86  "
      ]
     },
     "execution_count": 3,
     "metadata": {},
     "output_type": "execute_result"
    }
   ],
   "source": [
    "# 5 random rows \n",
    "\n",
    "df.sample(5)"
   ]
  },
  {
   "cell_type": "code",
   "execution_count": 4,
   "id": "9e356fae-e466-47bb-853e-16570e982f16",
   "metadata": {},
   "outputs": [
    {
     "data": {
      "text/plain": [
       "(319, 9)"
      ]
     },
     "execution_count": 4,
     "metadata": {},
     "output_type": "execute_result"
    }
   ],
   "source": [
    "# shape of dataset\n",
    "\n",
    "df.shape"
   ]
  },
  {
   "cell_type": "code",
   "execution_count": 5,
   "id": "9c1a0ba0",
   "metadata": {},
   "outputs": [
    {
     "data": {
      "text/plain": [
       "Index(['Date ', 'IPOName', 'Issue_Size', 'Subscription_QIB',\n",
       "       'Subscription_HNI', 'Subscription_RII', 'Subscription_Total',\n",
       "       'Issue_Price', 'Listing_Gains_Percent'],\n",
       "      dtype='object')"
      ]
     },
     "execution_count": 5,
     "metadata": {},
     "output_type": "execute_result"
    }
   ],
   "source": [
    "# name of columns\n",
    "\n",
    "df.columns"
   ]
  },
  {
   "cell_type": "code",
   "execution_count": 6,
   "id": "6a2913dd",
   "metadata": {},
   "outputs": [
    {
     "name": "stdout",
     "output_type": "stream",
     "text": [
      "<class 'pandas.core.frame.DataFrame'>\n",
      "RangeIndex: 319 entries, 0 to 318\n",
      "Data columns (total 9 columns):\n",
      " #   Column                 Non-Null Count  Dtype  \n",
      "---  ------                 --------------  -----  \n",
      " 0   Date                   319 non-null    object \n",
      " 1   IPOName                319 non-null    object \n",
      " 2   Issue_Size             319 non-null    float64\n",
      " 3   Subscription_QIB       319 non-null    float64\n",
      " 4   Subscription_HNI       319 non-null    float64\n",
      " 5   Subscription_RII       319 non-null    float64\n",
      " 6   Subscription_Total     319 non-null    float64\n",
      " 7   Issue_Price            319 non-null    int64  \n",
      " 8   Listing_Gains_Percent  319 non-null    float64\n",
      "dtypes: float64(6), int64(1), object(2)\n",
      "memory usage: 22.6+ KB\n"
     ]
    }
   ],
   "source": [
    "df.info()"
   ]
  },
  {
   "cell_type": "code",
   "execution_count": 7,
   "id": "5b147898",
   "metadata": {},
   "outputs": [
    {
     "data": {
      "text/plain": [
       "array(['Infinite Comp', 'Jubilant Food', 'Syncom Health',\n",
       "       'Vascon Engineer', 'Thangamayil', 'Aqua Logistics', 'DB Realty',\n",
       "       'Emmbi Ind', 'Hathway Cable', 'ARSS Infra'], dtype=object)"
      ]
     },
     "execution_count": 7,
     "metadata": {},
     "output_type": "execute_result"
    }
   ],
   "source": [
    "# list of first IPO name and Dtype Object\n",
    "\n",
    "df['IPOName'].unique()[:10]"
   ]
  },
  {
   "cell_type": "code",
   "execution_count": 8,
   "id": "686d2f00",
   "metadata": {},
   "outputs": [
    {
     "data": {
      "text/plain": [
       "205    02/07/18\n",
       "280    12/11/21\n",
       "34     29/09/10\n",
       "215    15/04/19\n",
       "252    07/04/21\n",
       "Name: Date , dtype: object"
      ]
     },
     "execution_count": 8,
     "metadata": {},
     "output_type": "execute_result"
    }
   ],
   "source": [
    "# show date Object\n",
    "\n",
    "df[\"Date \"].sample(5)"
   ]
  },
  {
   "cell_type": "code",
   "execution_count": 9,
   "id": "551811c6",
   "metadata": {},
   "outputs": [
    {
     "data": {
      "text/plain": [
       "count    319.000000\n",
       "mean       4.742696\n",
       "std       47.650946\n",
       "min      -97.150000\n",
       "25%      -11.555000\n",
       "50%        1.810000\n",
       "75%       25.310000\n",
       "max      270.400000\n",
       "Name: Listing_Gains_Percent, dtype: float64"
      ]
     },
     "execution_count": 9,
     "metadata": {},
     "output_type": "execute_result"
    }
   ],
   "source": [
    "df['Listing_Gains_Percent'].describe()"
   ]
  },
  {
   "cell_type": "code",
   "execution_count": 10,
   "id": "4840c9c8",
   "metadata": {},
   "outputs": [
    {
     "data": {
      "text/html": [
       "<div>\n",
       "<style scoped>\n",
       "    .dataframe tbody tr th:only-of-type {\n",
       "        vertical-align: middle;\n",
       "    }\n",
       "\n",
       "    .dataframe tbody tr th {\n",
       "        vertical-align: top;\n",
       "    }\n",
       "\n",
       "    .dataframe thead th {\n",
       "        text-align: right;\n",
       "    }\n",
       "</style>\n",
       "<table border=\"1\" class=\"dataframe\">\n",
       "  <thead>\n",
       "    <tr style=\"text-align: right;\">\n",
       "      <th></th>\n",
       "      <th>Issue_Size</th>\n",
       "      <th>Subscription_QIB</th>\n",
       "      <th>Subscription_HNI</th>\n",
       "      <th>Subscription_RII</th>\n",
       "      <th>Subscription_Total</th>\n",
       "      <th>Issue_Price</th>\n",
       "      <th>Listing_Gains_Percent</th>\n",
       "    </tr>\n",
       "  </thead>\n",
       "  <tbody>\n",
       "    <tr>\n",
       "      <th>count</th>\n",
       "      <td>319.000000</td>\n",
       "      <td>319.000000</td>\n",
       "      <td>319.000000</td>\n",
       "      <td>319.000000</td>\n",
       "      <td>319.000000</td>\n",
       "      <td>319.000000</td>\n",
       "      <td>319.000000</td>\n",
       "    </tr>\n",
       "    <tr>\n",
       "      <th>mean</th>\n",
       "      <td>1192.859969</td>\n",
       "      <td>25.684138</td>\n",
       "      <td>70.091379</td>\n",
       "      <td>8.561599</td>\n",
       "      <td>27.447147</td>\n",
       "      <td>375.128527</td>\n",
       "      <td>4.742696</td>\n",
       "    </tr>\n",
       "    <tr>\n",
       "      <th>std</th>\n",
       "      <td>2384.643786</td>\n",
       "      <td>40.716782</td>\n",
       "      <td>142.454416</td>\n",
       "      <td>14.508670</td>\n",
       "      <td>48.772203</td>\n",
       "      <td>353.897614</td>\n",
       "      <td>47.650946</td>\n",
       "    </tr>\n",
       "    <tr>\n",
       "      <th>min</th>\n",
       "      <td>0.000000</td>\n",
       "      <td>0.000000</td>\n",
       "      <td>0.000000</td>\n",
       "      <td>0.000000</td>\n",
       "      <td>0.000000</td>\n",
       "      <td>0.000000</td>\n",
       "      <td>-97.150000</td>\n",
       "    </tr>\n",
       "    <tr>\n",
       "      <th>25%</th>\n",
       "      <td>169.005000</td>\n",
       "      <td>1.150000</td>\n",
       "      <td>1.255000</td>\n",
       "      <td>1.275000</td>\n",
       "      <td>1.645000</td>\n",
       "      <td>119.000000</td>\n",
       "      <td>-11.555000</td>\n",
       "    </tr>\n",
       "    <tr>\n",
       "      <th>50%</th>\n",
       "      <td>496.250000</td>\n",
       "      <td>4.940000</td>\n",
       "      <td>5.070000</td>\n",
       "      <td>3.420000</td>\n",
       "      <td>4.930000</td>\n",
       "      <td>250.000000</td>\n",
       "      <td>1.810000</td>\n",
       "    </tr>\n",
       "    <tr>\n",
       "      <th>75%</th>\n",
       "      <td>1100.000000</td>\n",
       "      <td>34.635000</td>\n",
       "      <td>62.095000</td>\n",
       "      <td>8.605000</td>\n",
       "      <td>33.395000</td>\n",
       "      <td>536.000000</td>\n",
       "      <td>25.310000</td>\n",
       "    </tr>\n",
       "    <tr>\n",
       "      <th>max</th>\n",
       "      <td>21000.000000</td>\n",
       "      <td>215.450000</td>\n",
       "      <td>958.070000</td>\n",
       "      <td>119.440000</td>\n",
       "      <td>326.490000</td>\n",
       "      <td>2150.000000</td>\n",
       "      <td>270.400000</td>\n",
       "    </tr>\n",
       "  </tbody>\n",
       "</table>\n",
       "</div>"
      ],
      "text/plain": [
       "         Issue_Size  Subscription_QIB  Subscription_HNI  Subscription_RII  \\\n",
       "count    319.000000        319.000000        319.000000        319.000000   \n",
       "mean    1192.859969         25.684138         70.091379          8.561599   \n",
       "std     2384.643786         40.716782        142.454416         14.508670   \n",
       "min        0.000000          0.000000          0.000000          0.000000   \n",
       "25%      169.005000          1.150000          1.255000          1.275000   \n",
       "50%      496.250000          4.940000          5.070000          3.420000   \n",
       "75%     1100.000000         34.635000         62.095000          8.605000   \n",
       "max    21000.000000        215.450000        958.070000        119.440000   \n",
       "\n",
       "       Subscription_Total  Issue_Price  Listing_Gains_Percent  \n",
       "count          319.000000   319.000000             319.000000  \n",
       "mean            27.447147   375.128527               4.742696  \n",
       "std             48.772203   353.897614              47.650946  \n",
       "min              0.000000     0.000000             -97.150000  \n",
       "25%              1.645000   119.000000             -11.555000  \n",
       "50%              4.930000   250.000000               1.810000  \n",
       "75%             33.395000   536.000000              25.310000  \n",
       "max            326.490000  2150.000000             270.400000  "
      ]
     },
     "execution_count": 10,
     "metadata": {},
     "output_type": "execute_result"
    }
   ],
   "source": [
    "df.describe()"
   ]
  },
  {
   "cell_type": "code",
   "execution_count": 11,
   "id": "e1c33b9c",
   "metadata": {},
   "outputs": [
    {
     "data": {
      "text/html": [
       "<div>\n",
       "<style scoped>\n",
       "    .dataframe tbody tr th:only-of-type {\n",
       "        vertical-align: middle;\n",
       "    }\n",
       "\n",
       "    .dataframe tbody tr th {\n",
       "        vertical-align: top;\n",
       "    }\n",
       "\n",
       "    .dataframe thead th {\n",
       "        text-align: right;\n",
       "    }\n",
       "</style>\n",
       "<table border=\"1\" class=\"dataframe\">\n",
       "  <thead>\n",
       "    <tr style=\"text-align: right;\">\n",
       "      <th></th>\n",
       "      <th>Date</th>\n",
       "      <th>IPOName</th>\n",
       "    </tr>\n",
       "  </thead>\n",
       "  <tbody>\n",
       "    <tr>\n",
       "      <th>count</th>\n",
       "      <td>319</td>\n",
       "      <td>319</td>\n",
       "    </tr>\n",
       "    <tr>\n",
       "      <th>unique</th>\n",
       "      <td>287</td>\n",
       "      <td>319</td>\n",
       "    </tr>\n",
       "    <tr>\n",
       "      <th>top</th>\n",
       "      <td>16/08/21</td>\n",
       "      <td>Infinite Comp</td>\n",
       "    </tr>\n",
       "    <tr>\n",
       "      <th>freq</th>\n",
       "      <td>4</td>\n",
       "      <td>1</td>\n",
       "    </tr>\n",
       "  </tbody>\n",
       "</table>\n",
       "</div>"
      ],
      "text/plain": [
       "           Date         IPOName\n",
       "count        319            319\n",
       "unique       287            319\n",
       "top     16/08/21  Infinite Comp\n",
       "freq           4              1"
      ]
     },
     "execution_count": 11,
     "metadata": {},
     "output_type": "execute_result"
    }
   ],
   "source": [
    "df.describe(include=object)"
   ]
  },
  {
   "cell_type": "markdown",
   "id": "e8efbdca",
   "metadata": {},
   "source": [
    "The silhouette of the dataset is 319 rows and 9 columns. 2 of them are of object type which in python means of text type, one of them is the names of the IPOs and the other is the dates that must be converted to datetime type. There are no null values.\n",
    "\n",
    "\n",
    "\n",
    "Estos datos son comúnmente utilizados en el análisis de OPIs para evaluar el interés del mercado, la demanda de acciones y el desempeño inicial de las acciones en el mercado secundario.\n",
    "\n",
    "## Exploring the Data"
   ]
  },
  {
   "cell_type": "code",
   "execution_count": 12,
   "id": "6669bea2",
   "metadata": {},
   "outputs": [
    {
     "data": {
      "text/plain": [
       "Date                     0\n",
       "IPOName                  0\n",
       "Issue_Size               0\n",
       "Subscription_QIB         0\n",
       "Subscription_HNI         0\n",
       "Subscription_RII         0\n",
       "Subscription_Total       0\n",
       "Issue_Price              0\n",
       "Listing_Gains_Percent    0\n",
       "dtype: int64"
      ]
     },
     "execution_count": 12,
     "metadata": {},
     "output_type": "execute_result"
    }
   ],
   "source": [
    "df.isnull().sum()"
   ]
  },
  {
   "cell_type": "code",
   "execution_count": 13,
   "id": "f7c27e2b",
   "metadata": {},
   "outputs": [],
   "source": [
    "df['Listing_Gains_Profit'] = np.where(df['Listing_Gains_Percent'] > 0, 1, 0)"
   ]
  },
  {
   "cell_type": "code",
   "execution_count": 14,
   "id": "7f697e74",
   "metadata": {},
   "outputs": [
    {
     "data": {
      "text/plain": [
       "1    0.545455\n",
       "0    0.454545\n",
       "Name: Listing_Gains_Profit, dtype: float64"
      ]
     },
     "execution_count": 14,
     "metadata": {},
     "output_type": "execute_result"
    }
   ],
   "source": [
    "df['Listing_Gains_Profit'].value_counts(normalize=True)"
   ]
  },
  {
   "cell_type": "markdown",
   "id": "d7c2d73f",
   "metadata": {},
   "source": [
    "We can see approximately 55% of the IPOs listed in profit, and we can also see that the data is fairly balanced. "
   ]
  },
  {
   "cell_type": "code",
   "execution_count": 15,
   "id": "b3f08457",
   "metadata": {},
   "outputs": [
    {
     "name": "stdout",
     "output_type": "stream",
     "text": [
      "<class 'pandas.core.frame.DataFrame'>\n",
      "RangeIndex: 319 entries, 0 to 318\n",
      "Data columns (total 7 columns):\n",
      " #   Column                Non-Null Count  Dtype  \n",
      "---  ------                --------------  -----  \n",
      " 0   Issue_Size            319 non-null    float64\n",
      " 1   Subscription_QIB      319 non-null    float64\n",
      " 2   Subscription_HNI      319 non-null    float64\n",
      " 3   Subscription_RII      319 non-null    float64\n",
      " 4   Subscription_Total    319 non-null    float64\n",
      " 5   Issue_Price           319 non-null    int64  \n",
      " 6   Listing_Gains_Profit  319 non-null    int64  \n",
      "dtypes: float64(5), int64(2)\n",
      "memory usage: 17.6 KB\n"
     ]
    }
   ],
   "source": [
    "df = df.drop(['Date ', 'IPOName', 'Listing_Gains_Percent'], axis=1)\n",
    "df.info()"
   ]
  },
  {
   "cell_type": "markdown",
   "id": "f9953eab",
   "metadata": {},
   "source": [
    "We have also dropped some of the variables that might not carry predictive power. \n",
    "\n",
    "## Data Visualization."
   ]
  },
  {
   "cell_type": "code",
   "execution_count": 16,
   "id": "0f518769",
   "metadata": {},
   "outputs": [
    {
     "data": {
      "image/png": "[encoded data removed]",
      "text/plain": [
       "<Figure size 432x288 with 1 Axes>"
      ]
     },
     "metadata": {
      "needs_background": "light"
     },
     "output_type": "display_data"
    }
   ],
   "source": [
    "# visualizing the target variable\n",
    "sns.countplot(x='Listing_Gains_Profit', data=df)\n",
    "plt.title('Distribution of IPO Listing Profit Category')\n",
    "plt.xlabel('Listing Profit (No=0, Yes=1)')\n",
    "plt.ylabel('Frequency')\n",
    "plt.show()"
   ]
  },
  {
   "cell_type": "code",
   "execution_count": 17,
   "id": "f0ea209c",
   "metadata": {},
   "outputs": [
    {
     "data": {
      "image/png": "[encoded data removed]",
      "text/plain": [
       "<Figure size 576x360 with 1 Axes>"
      ]
     },
     "metadata": {
      "needs_background": "light"
     },
     "output_type": "display_data"
    }
   ],
   "source": [
    "plt.figure(figsize=[8,5])\n",
    "sns.histplot(data=df, x='Issue_Price', bins=50).set(title='Distribution of Issue_Price', ylabel='Count')\n",
    "plt.show()"
   ]
  },
  {
   "cell_type": "code",
   "execution_count": 18,
   "id": "e08497e6",
   "metadata": {},
   "outputs": [
    {
     "data": {
      "image/png": "[encoded data removed]",
      "text/plain": [
       "<Figure size 576x360 with 1 Axes>"
      ]
     },
     "metadata": {
      "needs_background": "light"
     },
     "output_type": "display_data"
    }
   ],
   "source": [
    "plt.figure(figsize=[8,5])\n",
    "sns.histplot(data=df, x='Issue_Size', bins=50).set(title='Distribution of Issue_Size', ylabel='Count')\n",
    "plt.show()"
   ]
  },
  {
   "cell_type": "code",
   "execution_count": 19,
   "id": "65262081",
   "metadata": {},
   "outputs": [
    {
     "data": {
      "image/png": "[encoded data removed]",
      "text/plain": [
       "<Figure size 432x288 with 1 Axes>"
      ]
     },
     "metadata": {
      "needs_background": "light"
     },
     "output_type": "display_data"
    }
   ],
   "source": [
    "sns.boxplot(data=df, y='Issue_Size')\n",
    "plt.title('Boxplot of Issue_Size')\n",
    "plt.show()"
   ]
  },
  {
   "cell_type": "code",
   "execution_count": 20,
   "id": "60635d1c",
   "metadata": {},
   "outputs": [
    {
     "data": {
      "image/png": "[encoded data removed]",
      "text/plain": [
       "<Figure size 432x288 with 1 Axes>"
      ]
     },
     "metadata": {
      "needs_background": "light"
     },
     "output_type": "display_data"
    }
   ],
   "source": [
    "sns.boxplot(data=df, x='Listing_Gains_Profit', y='Issue_Price')\n",
    "plt.title('Boxplot of Issue_Price with respect to Listing Gains Type')\n",
    "plt.xlabel('Listing Profit (No=0, Yes=1)')\n",
    "plt.show()"
   ]
  },
  {
   "cell_type": "markdown",
   "id": "b1a77895",
   "metadata": {},
   "source": [
    "Instead of using an exploratory data visualization, we can use a quantifiable measure to detect the presence of outliers using the skewness value, when the value is between -1 and +1, it indicates that the variable has no significant outliers to worry about."
   ]
  },
  {
   "cell_type": "code",
   "execution_count": 21,
   "id": "0cf6ef3e",
   "metadata": {},
   "outputs": [
    {
     "name": "stdout",
     "output_type": "stream",
     "text": [
      "Issue_Size              4.853402\n",
      "Subscription_QIB        2.143705\n",
      "Subscription_HNI        3.078445\n",
      "Subscription_RII        3.708274\n",
      "Subscription_Total      2.911907\n",
      "Issue_Price             1.696881\n",
      "Listing_Gains_Profit   -0.183438\n",
      "dtype: float64\n"
     ]
    }
   ],
   "source": [
    "print(df.skew())"
   ]
  },
  {
   "cell_type": "code",
   "execution_count": 22,
   "id": "eab34799",
   "metadata": {},
   "outputs": [
    {
     "data": {
      "image/png": "[encoded data removed]",
      "text/plain": [
       "<Figure size 432x288 with 1 Axes>"
      ]
     },
     "metadata": {
      "needs_background": "light"
     },
     "output_type": "display_data"
    }
   ],
   "source": [
    "sns.boxplot(data=df, y='Subscription_QIB')\n",
    "plt.title('Boxplot of Subscription_QIB')\n",
    "plt.show()"
   ]
  },
  {
   "cell_type": "code",
   "execution_count": 23,
   "id": "1022365a",
   "metadata": {},
   "outputs": [
    {
     "data": {
      "image/png": "[encoded data removed]",
      "text/plain": [
       "<Figure size 432x288 with 1 Axes>"
      ]
     },
     "metadata": {
      "needs_background": "light"
     },
     "output_type": "display_data"
    }
   ],
   "source": [
    "sns.scatterplot(data=df, x='Subscription_RII', y='Subscription_Total')\n",
    "plt.title('Scatterplot between Retail and Total IPO Subscription')\n",
    "plt.show()"
   ]
  },
  {
   "cell_type": "markdown",
   "id": "1afcb748",
   "metadata": {},
   "source": [
    "Here are some of the findings that we can draw from the visualizations above:\n",
    "\n",
    "1. The histogram and the boxplots show that outliers are present in the data and might need **outlier treatment**. \n",
    "\n",
    "2. The boxplot of `Issue_Price`, with respect to `Listing_Gains_Profit`, shows that there are more outliers for **IPOs** that listed a loss than there are outliers for **IPOs** that listed a profit. \n",
    "\n",
    "3. We also observed a correlation between Retail and Total IPO Subscription via a scatterplot. You can check for correlations between other continuous variables as well.  \n",
    "\n",
    "\n",
    "## Outlier Treatment\n",
    "\n",
    "Since there are outliers in the data, we need to treat them."
   ]
  },
  {
   "cell_type": "code",
   "execution_count": 24,
   "id": "dfd9077d",
   "metadata": {},
   "outputs": [
    {
     "data": {
      "image/png": "[encoded data removed]",
      "text/plain": [
       "<Figure size 432x288 with 1 Axes>"
      ]
     },
     "metadata": {
      "needs_background": "light"
     },
     "output_type": "display_data"
    }
   ],
   "source": [
    "sns.boxplot(data=df, y='Issue_Size')\n",
    "plt.title('Boxplot of Issue_Size')\n",
    "plt.show()"
   ]
  },
  {
   "cell_type": "code",
   "execution_count": 25,
   "id": "d3d824a2",
   "metadata": {},
   "outputs": [
    {
     "name": "stdout",
     "output_type": "stream",
     "text": [
      "IQR = 930.995\n",
      "lower = -1227.4875000000002\n",
      "upper = 2496.4925000000003\n"
     ]
    }
   ],
   "source": [
    "q1 = df['Issue_Size'].quantile(q=0.25)\n",
    "q3 = df['Issue_Size'].quantile(q=0.75)  \n",
    "iqr = q3 - q1   \n",
    "lower = (q1 - 1.5 * iqr) \n",
    "upper = (q3 + 1.5 * iqr) \n",
    "print('IQR = ', iqr, '\\nlower = ', lower, '\\nupper = ', upper, sep='')"
   ]
  },
  {
   "cell_type": "code",
   "execution_count": 26,
   "id": "aa87972f",
   "metadata": {},
   "outputs": [
    {
     "data": {
      "text/plain": [
       "count     319.000000\n",
       "mean      763.561238\n",
       "std       769.689122\n",
       "min         0.000000\n",
       "25%       169.005000\n",
       "50%       496.250000\n",
       "75%      1100.000000\n",
       "max      2496.492500\n",
       "Name: Issue_Size, dtype: float64"
      ]
     },
     "execution_count": 26,
     "metadata": {},
     "output_type": "execute_result"
    }
   ],
   "source": [
    "df['Issue_Size'] = df['Issue_Size'].clip(lower, upper)\n",
    "df['Issue_Size'].describe()"
   ]
  },
  {
   "cell_type": "code",
   "execution_count": 27,
   "id": "9b4941e0",
   "metadata": {},
   "outputs": [
    {
     "name": "stdout",
     "output_type": "stream",
     "text": [
      "IQR = 33.48500000000001\n",
      "lower = -49.07750000000001\n",
      "upper = 84.86250000000001\n"
     ]
    }
   ],
   "source": [
    "q1 = df['Subscription_QIB'].quantile(q=0.25)\n",
    "q3 = df['Subscription_QIB'].quantile(q=0.75)  \n",
    "iqr = q3 - q1   \n",
    "lower = (q1 - 1.5 * iqr) \n",
    "upper = (q3 + 1.5 * iqr) \n",
    "print('IQR = ', iqr, '\\nlower = ', lower, '\\nupper = ', upper, sep='')"
   ]
  },
  {
   "cell_type": "code",
   "execution_count": 28,
   "id": "be018179",
   "metadata": {},
   "outputs": [
    {
     "data": {
      "text/plain": [
       "count    319.000000\n",
       "mean      21.521183\n",
       "std       29.104549\n",
       "min        0.000000\n",
       "25%        1.150000\n",
       "50%        4.940000\n",
       "75%       34.635000\n",
       "max       84.862500\n",
       "Name: Subscription_QIB, dtype: float64"
      ]
     },
     "execution_count": 28,
     "metadata": {},
     "output_type": "execute_result"
    }
   ],
   "source": [
    "df['Subscription_QIB'] = df['Subscription_QIB'].clip(lower, upper)\n",
    "df['Subscription_QIB'].describe()"
   ]
  },
  {
   "cell_type": "code",
   "execution_count": 29,
   "id": "ae300f7d",
   "metadata": {},
   "outputs": [
    {
     "name": "stdout",
     "output_type": "stream",
     "text": [
      "IQR = 60.839999999999996\n",
      "lower = -90.005\n",
      "upper = 153.355\n"
     ]
    }
   ],
   "source": [
    "q1 = df['Subscription_HNI'].quantile(q=0.25)\n",
    "q3 = df['Subscription_HNI'].quantile(q=0.75)  \n",
    "iqr = q3 - q1   \n",
    "lower = (q1 - 1.5 * iqr) \n",
    "upper = (q3 + 1.5 * iqr) \n",
    "print('IQR = ', iqr, '\\nlower = ', lower, '\\nupper = ', upper, sep='')"
   ]
  },
  {
   "cell_type": "code",
   "execution_count": 30,
   "id": "a7e454b1",
   "metadata": {},
   "outputs": [
    {
     "data": {
      "text/plain": [
       "count    319.000000\n",
       "mean      40.356426\n",
       "std       57.427921\n",
       "min        0.000000\n",
       "25%        1.255000\n",
       "50%        5.070000\n",
       "75%       62.095000\n",
       "max      153.355000\n",
       "Name: Subscription_HNI, dtype: float64"
      ]
     },
     "execution_count": 30,
     "metadata": {},
     "output_type": "execute_result"
    }
   ],
   "source": [
    "df['Subscription_HNI'] = df['Subscription_HNI'].clip(lower, upper)\n",
    "df['Subscription_HNI'].describe()"
   ]
  },
  {
   "cell_type": "code",
   "execution_count": 31,
   "id": "09f3dab7",
   "metadata": {},
   "outputs": [
    {
     "name": "stdout",
     "output_type": "stream",
     "text": [
      "IQR = 7.33\n",
      "lower = -9.72\n",
      "upper = 19.6\n"
     ]
    }
   ],
   "source": [
    "q1 = df['Subscription_RII'].quantile(q=0.25)\n",
    "q3 = df['Subscription_RII'].quantile(q=0.75)  \n",
    "iqr = q3 - q1   \n",
    "lower = (q1 - 1.5 * iqr) \n",
    "upper = (q3 + 1.5 * iqr) \n",
    "print('IQR = ', iqr, '\\nlower = ', lower, '\\nupper = ', upper, sep='')"
   ]
  },
  {
   "cell_type": "code",
   "execution_count": 32,
   "id": "f58699c7",
   "metadata": {},
   "outputs": [
    {
     "data": {
      "text/plain": [
       "count    319.000000\n",
       "mean       6.060940\n",
       "std        6.176882\n",
       "min        0.000000\n",
       "25%        1.275000\n",
       "50%        3.420000\n",
       "75%        8.605000\n",
       "max       19.600000\n",
       "Name: Subscription_RII, dtype: float64"
      ]
     },
     "execution_count": 32,
     "metadata": {},
     "output_type": "execute_result"
    }
   ],
   "source": [
    "df['Subscription_RII'] = df['Subscription_RII'].clip(lower, upper)\n",
    "df['Subscription_RII'].describe()"
   ]
  },
  {
   "cell_type": "code",
   "execution_count": 33,
   "id": "4f2f8c3e",
   "metadata": {},
   "outputs": [
    {
     "name": "stdout",
     "output_type": "stream",
     "text": [
      "IQR = 31.749999999999996\n",
      "lower = -45.97999999999999\n",
      "upper = 81.01999999999998\n"
     ]
    }
   ],
   "source": [
    "q1 = df['Subscription_Total'].quantile(q=0.25)\n",
    "q3 = df['Subscription_Total'].quantile(q=0.75)  \n",
    "iqr = q3 - q1   \n",
    "lower = (q1 - 1.5 * iqr) \n",
    "upper = (q3 + 1.5 * iqr) \n",
    "print('IQR = ', iqr, '\\nlower = ', lower, '\\nupper = ', upper, sep='')"
   ]
  },
  {
   "cell_type": "code",
   "execution_count": 34,
   "id": "baa4008b",
   "metadata": {},
   "outputs": [
    {
     "data": {
      "text/plain": [
       "count    319.000000\n",
       "mean      20.456646\n",
       "std       27.217740\n",
       "min        0.000000\n",
       "25%        1.645000\n",
       "50%        4.930000\n",
       "75%       33.395000\n",
       "max       81.020000\n",
       "Name: Subscription_Total, dtype: float64"
      ]
     },
     "execution_count": 34,
     "metadata": {},
     "output_type": "execute_result"
    }
   ],
   "source": [
    "df['Subscription_Total'] = df['Subscription_Total'].clip(lower, upper)\n",
    "df['Subscription_Total'].describe()"
   ]
  },
  {
   "cell_type": "markdown",
   "id": "d67a090e",
   "metadata": {},
   "source": [
    "There are different approaches to the treatment of outliers, but the one we have used here is the identification of outliers using the interquartile method. \n",
    "\n",
    "Once we identify the outliers, we trim the values of the variables between the upper and lower bounds. This is just one option – feel free to experiment with other methods.\n",
    "\n",
    "## Setting the Target and Predictor Variables"
   ]
  },
  {
   "cell_type": "code",
   "execution_count": 35,
   "id": "166c2022",
   "metadata": {},
   "outputs": [
    {
     "data": {
      "text/html": [
       "<div>\n",
       "<style scoped>\n",
       "    .dataframe tbody tr th:only-of-type {\n",
       "        vertical-align: middle;\n",
       "    }\n",
       "\n",
       "    .dataframe tbody tr th {\n",
       "        vertical-align: top;\n",
       "    }\n",
       "\n",
       "    .dataframe thead th {\n",
       "        text-align: right;\n",
       "    }\n",
       "</style>\n",
       "<table border=\"1\" class=\"dataframe\">\n",
       "  <thead>\n",
       "    <tr style=\"text-align: right;\">\n",
       "      <th></th>\n",
       "      <th>Issue_Size</th>\n",
       "      <th>Subscription_QIB</th>\n",
       "      <th>Subscription_HNI</th>\n",
       "      <th>Subscription_RII</th>\n",
       "      <th>Subscription_Total</th>\n",
       "      <th>Issue_Price</th>\n",
       "      <th>Listing_Gains_Profit</th>\n",
       "    </tr>\n",
       "  </thead>\n",
       "  <tbody>\n",
       "    <tr>\n",
       "      <th>count</th>\n",
       "      <td>319.000000</td>\n",
       "      <td>319.000000</td>\n",
       "      <td>319.000000</td>\n",
       "      <td>319.000000</td>\n",
       "      <td>319.000000</td>\n",
       "      <td>319.000000</td>\n",
       "      <td>319.000000</td>\n",
       "    </tr>\n",
       "    <tr>\n",
       "      <th>mean</th>\n",
       "      <td>0.305854</td>\n",
       "      <td>0.253601</td>\n",
       "      <td>0.263157</td>\n",
       "      <td>0.309232</td>\n",
       "      <td>0.252489</td>\n",
       "      <td>0.174478</td>\n",
       "      <td>0.545455</td>\n",
       "    </tr>\n",
       "    <tr>\n",
       "      <th>std</th>\n",
       "      <td>0.308308</td>\n",
       "      <td>0.342961</td>\n",
       "      <td>0.374477</td>\n",
       "      <td>0.315147</td>\n",
       "      <td>0.335939</td>\n",
       "      <td>0.164604</td>\n",
       "      <td>0.498712</td>\n",
       "    </tr>\n",
       "    <tr>\n",
       "      <th>min</th>\n",
       "      <td>0.000000</td>\n",
       "      <td>0.000000</td>\n",
       "      <td>0.000000</td>\n",
       "      <td>0.000000</td>\n",
       "      <td>0.000000</td>\n",
       "      <td>0.000000</td>\n",
       "      <td>0.000000</td>\n",
       "    </tr>\n",
       "    <tr>\n",
       "      <th>25%</th>\n",
       "      <td>0.067697</td>\n",
       "      <td>0.013551</td>\n",
       "      <td>0.008184</td>\n",
       "      <td>0.065051</td>\n",
       "      <td>0.020304</td>\n",
       "      <td>0.055349</td>\n",
       "      <td>0.000000</td>\n",
       "    </tr>\n",
       "    <tr>\n",
       "      <th>50%</th>\n",
       "      <td>0.198779</td>\n",
       "      <td>0.058212</td>\n",
       "      <td>0.033061</td>\n",
       "      <td>0.174490</td>\n",
       "      <td>0.060849</td>\n",
       "      <td>0.116279</td>\n",
       "      <td>1.000000</td>\n",
       "    </tr>\n",
       "    <tr>\n",
       "      <th>75%</th>\n",
       "      <td>0.440618</td>\n",
       "      <td>0.408131</td>\n",
       "      <td>0.404910</td>\n",
       "      <td>0.439031</td>\n",
       "      <td>0.412182</td>\n",
       "      <td>0.249302</td>\n",
       "      <td>1.000000</td>\n",
       "    </tr>\n",
       "    <tr>\n",
       "      <th>max</th>\n",
       "      <td>1.000000</td>\n",
       "      <td>1.000000</td>\n",
       "      <td>1.000000</td>\n",
       "      <td>1.000000</td>\n",
       "      <td>1.000000</td>\n",
       "      <td>1.000000</td>\n",
       "      <td>1.000000</td>\n",
       "    </tr>\n",
       "  </tbody>\n",
       "</table>\n",
       "</div>"
      ],
      "text/plain": [
       "       Issue_Size  Subscription_QIB  Subscription_HNI  Subscription_RII  \\\n",
       "count  319.000000        319.000000        319.000000        319.000000   \n",
       "mean     0.305854          0.253601          0.263157          0.309232   \n",
       "std      0.308308          0.342961          0.374477          0.315147   \n",
       "min      0.000000          0.000000          0.000000          0.000000   \n",
       "25%      0.067697          0.013551          0.008184          0.065051   \n",
       "50%      0.198779          0.058212          0.033061          0.174490   \n",
       "75%      0.440618          0.408131          0.404910          0.439031   \n",
       "max      1.000000          1.000000          1.000000          1.000000   \n",
       "\n",
       "       Subscription_Total  Issue_Price  Listing_Gains_Profit  \n",
       "count          319.000000   319.000000            319.000000  \n",
       "mean             0.252489     0.174478              0.545455  \n",
       "std              0.335939     0.164604              0.498712  \n",
       "min              0.000000     0.000000              0.000000  \n",
       "25%              0.020304     0.055349              0.000000  \n",
       "50%              0.060849     0.116279              1.000000  \n",
       "75%              0.412182     0.249302              1.000000  \n",
       "max              1.000000     1.000000              1.000000  "
      ]
     },
     "execution_count": 35,
     "metadata": {},
     "output_type": "execute_result"
    }
   ],
   "source": [
    "target_variable = ['Listing_Gains_Profit'] \n",
    "predictors = list(set(list(df.columns)) - set(target_variable))\n",
    "df[predictors] = df[predictors]/df[predictors].max()\n",
    "df.describe()"
   ]
  },
  {
   "cell_type": "markdown",
   "id": "8557eccc",
   "metadata": {},
   "source": [
    "We have created a dependent variable object called `target_variable` and also a list of all the characteristics, excluding the target variable `Listing_Gains_Profit`. \n",
    "\n",
    "During the exploration of the data, we observed that the distribution of the variables differed significantly. This could influence the modeling process, so to avoid this, we perform normalization by scaling the predictors. You can see that the normalized values of the predictors are between `0` and `1`.\n",
    "\n",
    "## Creating the Holdout Validation Approach"
   ]
  },
  {
   "cell_type": "code",
   "execution_count": 36,
   "id": "466c16ed",
   "metadata": {},
   "outputs": [
    {
     "name": "stdout",
     "output_type": "stream",
     "text": [
      "(223, 6)\n",
      "(96, 6)\n"
     ]
    }
   ],
   "source": [
    "X = df[predictors].values\n",
    "y = df[target_variable].values\n",
    "\n",
    "X_train, X_test, y_train, y_test = train_test_split(X, y, test_size=0.30, random_state=100)\n",
    "print(X_train.shape); print(X_test.shape)"
   ]
  },
  {
   "cell_type": "markdown",
   "id": "bde1509d",
   "metadata": {},
   "source": [
    "We will use the retention validation approach for the evaluation of the model. In this approach, we'll split the data in the 70:30 ratio, where we'll use 70% of the data to train the model, while we'll use the other 30% of the data to test the model. Feel free to use a different test training ratio.\n",
    "\n",
    "## Define the Deep Learning Classification Model"
   ]
  },
  {
   "cell_type": "code",
   "execution_count": 37,
   "id": "ce2f1110",
   "metadata": {},
   "outputs": [],
   "source": [
    "# define model\n",
    "tf.random.set_seed(100)\n",
    "model = tf.keras.Sequential()\n",
    "model.add(tf.keras.layers.Dense(32, input_shape = (X_train.shape[1],), activation = 'relu'))\n",
    "model.add(tf.keras.layers.Dense(16, activation= 'relu'))\n",
    "model.add(tf.keras.layers.Dense(8, activation= 'relu'))\n",
    "model.add(tf.keras.layers.Dense(4, activation= 'relu'))\n",
    "model.add(tf.keras.layers.Dense(1, activation='sigmoid'))   "
   ]
  },
  {
   "cell_type": "markdown",
   "id": "e43c53e9",
   "metadata": {},
   "source": [
    "We define the model by instantiating the sequential model class in TensorFlow's Keras. The architecture of the model is made up of four hidden layers with `relu` as the trigger function.\n",
    "\n",
    "The output layer uses a `sigmoid` activation function, which is a good choice for a binary classification model. \n",
    "\n",
    "\n",
    "## Compile and Train the Model"
   ]
  },
  {
   "cell_type": "code",
   "execution_count": 38,
   "id": "2d72bb95",
   "metadata": {},
   "outputs": [],
   "source": [
    "model.compile(optimizer=tf.keras.optimizers.Adam(0.001),\n",
    "              loss=tf.keras.losses.BinaryCrossentropy(),\n",
    "              metrics=['accuracy'])"
   ]
  },
  {
   "cell_type": "code",
   "execution_count": 39,
   "id": "ad952023",
   "metadata": {},
   "outputs": [
    {
     "name": "stdout",
     "output_type": "stream",
     "text": [
      "Model: \"sequential\"\n",
      "_________________________________________________________________\n",
      " Layer (type)                Output Shape              Param #   \n",
      "=================================================================\n",
      " dense (Dense)               (None, 32)                224       \n",
      "                                                                 \n",
      " dense_1 (Dense)             (None, 16)                528       \n",
      "                                                                 \n",
      " dense_2 (Dense)             (None, 8)                 136       \n",
      "                                                                 \n",
      " dense_3 (Dense)             (None, 4)                 36        \n",
      "                                                                 \n",
      " dense_4 (Dense)             (None, 1)                 5         \n",
      "                                                                 \n",
      "=================================================================\n",
      "Total params: 929 (3.63 KB)\n",
      "Trainable params: 929 (3.63 KB)\n",
      "Non-trainable params: 0 (0.00 Byte)\n",
      "_________________________________________________________________\n",
      "None\n"
     ]
    }
   ],
   "source": [
    "print(model.summary())"
   ]
  },
  {
   "cell_type": "code",
   "execution_count": 40,
   "id": "da0245ea",
   "metadata": {
    "scrolled": false
   },
   "outputs": [
    {
     "name": "stdout",
     "output_type": "stream",
     "text": [
      "Epoch 1/250\n",
      "7/7 [==============================] - 1s 4ms/step - loss: 0.6796 - accuracy: 0.5874\n",
      "Epoch 2/250\n",
      "7/7 [==============================] - 0s 3ms/step - loss: 0.6715 - accuracy: 0.5561\n",
      "Epoch 3/250\n",
      "7/7 [==============================] - 0s 3ms/step - loss: 0.6671 - accuracy: 0.5561\n",
      "Epoch 4/250\n",
      "7/7 [==============================] - 0s 3ms/step - loss: 0.6601 - accuracy: 0.5561\n",
      "Epoch 5/250\n",
      "7/7 [==============================] - 0s 3ms/step - loss: 0.6556 - accuracy: 0.5561\n",
      "Epoch 6/250\n",
      "7/7 [==============================] - 0s 3ms/step - loss: 0.6510 - accuracy: 0.5561\n",
      "Epoch 7/250\n",
      "7/7 [==============================] - 0s 3ms/step - loss: 0.6465 - accuracy: 0.5561\n",
      "Epoch 8/250\n",
      "7/7 [==============================] - 0s 2ms/step - loss: 0.6433 - accuracy: 0.5561\n",
      "Epoch 9/250\n",
      "7/7 [==============================] - 0s 3ms/step - loss: 0.6394 - accuracy: 0.5561\n",
      "Epoch 10/250\n",
      "7/7 [==============================] - 0s 3ms/step - loss: 0.6369 - accuracy: 0.5561\n",
      "Epoch 11/250\n",
      "7/7 [==============================] - 0s 3ms/step - loss: 0.6347 - accuracy: 0.5516\n",
      "Epoch 12/250\n",
      "7/7 [==============================] - 0s 3ms/step - loss: 0.6330 - accuracy: 0.5650\n",
      "Epoch 13/250\n",
      "7/7 [==============================] - 0s 3ms/step - loss: 0.6314 - accuracy: 0.6188\n",
      "Epoch 14/250\n",
      "7/7 [==============================] - 0s 2ms/step - loss: 0.6300 - accuracy: 0.6547\n",
      "Epoch 15/250\n",
      "7/7 [==============================] - 0s 2ms/step - loss: 0.6289 - accuracy: 0.6502\n",
      "Epoch 16/250\n",
      "7/7 [==============================] - 0s 3ms/step - loss: 0.6271 - accuracy: 0.6502\n",
      "Epoch 17/250\n",
      "7/7 [==============================] - 0s 3ms/step - loss: 0.6254 - accuracy: 0.6592\n",
      "Epoch 18/250\n",
      "7/7 [==============================] - 0s 3ms/step - loss: 0.6243 - accuracy: 0.6682\n",
      "Epoch 19/250\n",
      "7/7 [==============================] - 0s 3ms/step - loss: 0.6233 - accuracy: 0.6726\n",
      "Epoch 20/250\n",
      "7/7 [==============================] - 0s 3ms/step - loss: 0.6217 - accuracy: 0.6771\n",
      "Epoch 21/250\n",
      "7/7 [==============================] - 0s 3ms/step - loss: 0.6201 - accuracy: 0.6861\n",
      "Epoch 22/250\n",
      "7/7 [==============================] - 0s 3ms/step - loss: 0.6195 - accuracy: 0.6816\n",
      "Epoch 23/250\n",
      "7/7 [==============================] - 0s 3ms/step - loss: 0.6183 - accuracy: 0.6771\n",
      "Epoch 24/250\n",
      "7/7 [==============================] - 0s 3ms/step - loss: 0.6175 - accuracy: 0.6771\n",
      "Epoch 25/250\n",
      "7/7 [==============================] - 0s 3ms/step - loss: 0.6165 - accuracy: 0.6771\n",
      "Epoch 26/250\n",
      "7/7 [==============================] - 0s 3ms/step - loss: 0.6161 - accuracy: 0.6771\n",
      "Epoch 27/250\n",
      "7/7 [==============================] - 0s 3ms/step - loss: 0.6156 - accuracy: 0.6592\n",
      "Epoch 28/250\n",
      "7/7 [==============================] - 0s 3ms/step - loss: 0.6139 - accuracy: 0.6637\n",
      "Epoch 29/250\n",
      "7/7 [==============================] - 0s 3ms/step - loss: 0.6131 - accuracy: 0.6682\n",
      "Epoch 30/250\n",
      "7/7 [==============================] - 0s 3ms/step - loss: 0.6124 - accuracy: 0.6637\n",
      "Epoch 31/250\n",
      "7/7 [==============================] - 0s 3ms/step - loss: 0.6116 - accuracy: 0.6682\n",
      "Epoch 32/250\n",
      "7/7 [==============================] - 0s 3ms/step - loss: 0.6109 - accuracy: 0.6726\n",
      "Epoch 33/250\n",
      "7/7 [==============================] - 0s 3ms/step - loss: 0.6103 - accuracy: 0.6592\n",
      "Epoch 34/250\n",
      "7/7 [==============================] - 0s 3ms/step - loss: 0.6091 - accuracy: 0.6726\n",
      "Epoch 35/250\n",
      "7/7 [==============================] - 0s 3ms/step - loss: 0.6084 - accuracy: 0.6771\n",
      "Epoch 36/250\n",
      "7/7 [==============================] - 0s 3ms/step - loss: 0.6082 - accuracy: 0.6771\n",
      "Epoch 37/250\n",
      "7/7 [==============================] - 0s 3ms/step - loss: 0.6069 - accuracy: 0.6861\n",
      "Epoch 38/250\n",
      "7/7 [==============================] - 0s 3ms/step - loss: 0.6064 - accuracy: 0.6726\n",
      "Epoch 39/250\n",
      "7/7 [==============================] - 0s 3ms/step - loss: 0.6060 - accuracy: 0.6682\n",
      "Epoch 40/250\n",
      "7/7 [==============================] - 0s 3ms/step - loss: 0.6048 - accuracy: 0.6726\n",
      "Epoch 41/250\n",
      "7/7 [==============================] - 0s 3ms/step - loss: 0.6037 - accuracy: 0.6816\n",
      "Epoch 42/250\n",
      "7/7 [==============================] - 0s 3ms/step - loss: 0.6034 - accuracy: 0.6726\n",
      "Epoch 43/250\n",
      "7/7 [==============================] - 0s 3ms/step - loss: 0.6022 - accuracy: 0.6726\n",
      "Epoch 44/250\n",
      "7/7 [==============================] - 0s 3ms/step - loss: 0.6025 - accuracy: 0.6816\n",
      "Epoch 45/250\n",
      "7/7 [==============================] - 0s 3ms/step - loss: 0.6014 - accuracy: 0.6861\n",
      "Epoch 46/250\n",
      "7/7 [==============================] - 0s 3ms/step - loss: 0.6010 - accuracy: 0.6726\n",
      "Epoch 47/250\n",
      "7/7 [==============================] - 0s 3ms/step - loss: 0.6006 - accuracy: 0.6637\n",
      "Epoch 48/250\n",
      "7/7 [==============================] - 0s 3ms/step - loss: 0.5989 - accuracy: 0.6726\n",
      "Epoch 49/250\n",
      "7/7 [==============================] - 0s 3ms/step - loss: 0.5982 - accuracy: 0.6726\n",
      "Epoch 50/250\n",
      "7/7 [==============================] - 0s 3ms/step - loss: 0.5976 - accuracy: 0.6816\n",
      "Epoch 51/250\n",
      "7/7 [==============================] - 0s 3ms/step - loss: 0.5977 - accuracy: 0.6906\n",
      "Epoch 52/250\n",
      "7/7 [==============================] - 0s 3ms/step - loss: 0.5968 - accuracy: 0.6906\n",
      "Epoch 53/250\n",
      "7/7 [==============================] - 0s 3ms/step - loss: 0.5966 - accuracy: 0.6682\n",
      "Epoch 54/250\n",
      "7/7 [==============================] - 0s 3ms/step - loss: 0.5956 - accuracy: 0.6726\n",
      "Epoch 55/250\n",
      "7/7 [==============================] - 0s 3ms/step - loss: 0.5946 - accuracy: 0.6906\n",
      "Epoch 56/250\n",
      "7/7 [==============================] - 0s 3ms/step - loss: 0.5944 - accuracy: 0.6816\n",
      "Epoch 57/250\n",
      "7/7 [==============================] - 0s 3ms/step - loss: 0.5941 - accuracy: 0.6861\n",
      "Epoch 58/250\n",
      "7/7 [==============================] - 0s 3ms/step - loss: 0.5928 - accuracy: 0.6771\n",
      "Epoch 59/250\n",
      "7/7 [==============================] - 0s 3ms/step - loss: 0.5920 - accuracy: 0.6906\n",
      "Epoch 60/250\n",
      "7/7 [==============================] - 0s 3ms/step - loss: 0.5920 - accuracy: 0.6861\n",
      "Epoch 61/250\n",
      "7/7 [==============================] - 0s 3ms/step - loss: 0.5902 - accuracy: 0.6816\n",
      "Epoch 62/250\n",
      "7/7 [==============================] - 0s 3ms/step - loss: 0.5894 - accuracy: 0.6861\n",
      "Epoch 63/250\n",
      "7/7 [==============================] - 0s 3ms/step - loss: 0.5903 - accuracy: 0.6816\n",
      "Epoch 64/250\n",
      "7/7 [==============================] - 0s 3ms/step - loss: 0.5898 - accuracy: 0.6816\n",
      "Epoch 65/250\n",
      "7/7 [==============================] - 0s 3ms/step - loss: 0.5879 - accuracy: 0.6861\n",
      "Epoch 66/250\n",
      "7/7 [==============================] - 0s 3ms/step - loss: 0.5873 - accuracy: 0.6906\n",
      "Epoch 67/250\n",
      "7/7 [==============================] - 0s 3ms/step - loss: 0.5869 - accuracy: 0.6906\n",
      "Epoch 68/250\n",
      "7/7 [==============================] - 0s 3ms/step - loss: 0.5854 - accuracy: 0.6861\n",
      "Epoch 69/250\n",
      "7/7 [==============================] - 0s 3ms/step - loss: 0.5855 - accuracy: 0.6771\n",
      "Epoch 70/250\n",
      "7/7 [==============================] - 0s 3ms/step - loss: 0.5840 - accuracy: 0.6861\n",
      "Epoch 71/250\n",
      "7/7 [==============================] - 0s 3ms/step - loss: 0.5832 - accuracy: 0.6861\n",
      "Epoch 72/250\n",
      "7/7 [==============================] - 0s 3ms/step - loss: 0.5834 - accuracy: 0.6771\n",
      "Epoch 73/250\n",
      "7/7 [==============================] - 0s 3ms/step - loss: 0.5839 - accuracy: 0.6906\n",
      "Epoch 74/250\n",
      "7/7 [==============================] - 0s 3ms/step - loss: 0.5830 - accuracy: 0.6816\n",
      "Epoch 75/250\n",
      "7/7 [==============================] - 0s 3ms/step - loss: 0.5809 - accuracy: 0.6906\n",
      "Epoch 76/250\n",
      "7/7 [==============================] - 0s 3ms/step - loss: 0.5804 - accuracy: 0.6816\n",
      "Epoch 77/250\n",
      "7/7 [==============================] - 0s 3ms/step - loss: 0.5797 - accuracy: 0.6906\n",
      "Epoch 78/250\n",
      "7/7 [==============================] - 0s 3ms/step - loss: 0.5790 - accuracy: 0.6906\n",
      "Epoch 79/250\n",
      "7/7 [==============================] - 0s 3ms/step - loss: 0.5786 - accuracy: 0.6861\n",
      "Epoch 80/250\n",
      "7/7 [==============================] - 0s 3ms/step - loss: 0.5785 - accuracy: 0.6906\n",
      "Epoch 81/250\n",
      "7/7 [==============================] - 0s 3ms/step - loss: 0.5767 - accuracy: 0.6861\n",
      "Epoch 82/250\n",
      "7/7 [==============================] - 0s 3ms/step - loss: 0.5767 - accuracy: 0.6861\n",
      "Epoch 83/250\n",
      "7/7 [==============================] - 0s 3ms/step - loss: 0.5761 - accuracy: 0.6771\n",
      "Epoch 84/250\n"
     ]
    },
    {
     "name": "stdout",
     "output_type": "stream",
     "text": [
      "7/7 [==============================] - 0s 3ms/step - loss: 0.5753 - accuracy: 0.6816\n",
      "Epoch 85/250\n",
      "7/7 [==============================] - 0s 3ms/step - loss: 0.5737 - accuracy: 0.6906\n",
      "Epoch 86/250\n",
      "7/7 [==============================] - 0s 3ms/step - loss: 0.5751 - accuracy: 0.6861\n",
      "Epoch 87/250\n",
      "7/7 [==============================] - 0s 3ms/step - loss: 0.5731 - accuracy: 0.6906\n",
      "Epoch 88/250\n",
      "7/7 [==============================] - 0s 3ms/step - loss: 0.5728 - accuracy: 0.6906\n",
      "Epoch 89/250\n",
      "7/7 [==============================] - 0s 3ms/step - loss: 0.5733 - accuracy: 0.6906\n",
      "Epoch 90/250\n",
      "7/7 [==============================] - 0s 3ms/step - loss: 0.5716 - accuracy: 0.6906\n",
      "Epoch 91/250\n",
      "7/7 [==============================] - 0s 2ms/step - loss: 0.5723 - accuracy: 0.6906\n",
      "Epoch 92/250\n",
      "7/7 [==============================] - 0s 3ms/step - loss: 0.5717 - accuracy: 0.6816\n",
      "Epoch 93/250\n",
      "7/7 [==============================] - 0s 3ms/step - loss: 0.5706 - accuracy: 0.6816\n",
      "Epoch 94/250\n",
      "7/7 [==============================] - 0s 3ms/step - loss: 0.5720 - accuracy: 0.6771\n",
      "Epoch 95/250\n",
      "7/7 [==============================] - 0s 3ms/step - loss: 0.5716 - accuracy: 0.6906\n",
      "Epoch 96/250\n",
      "7/7 [==============================] - 0s 3ms/step - loss: 0.5699 - accuracy: 0.6816\n",
      "Epoch 97/250\n",
      "7/7 [==============================] - 0s 2ms/step - loss: 0.5680 - accuracy: 0.6906\n",
      "Epoch 98/250\n",
      "7/7 [==============================] - 0s 3ms/step - loss: 0.5692 - accuracy: 0.6906\n",
      "Epoch 99/250\n",
      "7/7 [==============================] - 0s 3ms/step - loss: 0.5681 - accuracy: 0.6951\n",
      "Epoch 100/250\n",
      "7/7 [==============================] - 0s 2ms/step - loss: 0.5678 - accuracy: 0.6906\n",
      "Epoch 101/250\n",
      "7/7 [==============================] - 0s 2ms/step - loss: 0.5665 - accuracy: 0.6951\n",
      "Epoch 102/250\n",
      "7/7 [==============================] - 0s 3ms/step - loss: 0.5669 - accuracy: 0.6996\n",
      "Epoch 103/250\n",
      "7/7 [==============================] - 0s 3ms/step - loss: 0.5665 - accuracy: 0.6951\n",
      "Epoch 104/250\n",
      "7/7 [==============================] - 0s 3ms/step - loss: 0.5650 - accuracy: 0.7085\n",
      "Epoch 105/250\n",
      "7/7 [==============================] - 0s 3ms/step - loss: 0.5648 - accuracy: 0.7040\n",
      "Epoch 106/250\n",
      "7/7 [==============================] - 0s 3ms/step - loss: 0.5661 - accuracy: 0.6951\n",
      "Epoch 107/250\n",
      "7/7 [==============================] - 0s 3ms/step - loss: 0.5638 - accuracy: 0.6996\n",
      "Epoch 108/250\n",
      "7/7 [==============================] - 0s 3ms/step - loss: 0.5641 - accuracy: 0.6951\n",
      "Epoch 109/250\n",
      "7/7 [==============================] - 0s 3ms/step - loss: 0.5635 - accuracy: 0.7085\n",
      "Epoch 110/250\n",
      "7/7 [==============================] - 0s 3ms/step - loss: 0.5621 - accuracy: 0.7085\n",
      "Epoch 111/250\n",
      "7/7 [==============================] - 0s 3ms/step - loss: 0.5628 - accuracy: 0.6996\n",
      "Epoch 112/250\n",
      "7/7 [==============================] - 0s 3ms/step - loss: 0.5628 - accuracy: 0.7130\n",
      "Epoch 113/250\n",
      "7/7 [==============================] - 0s 3ms/step - loss: 0.5612 - accuracy: 0.7085\n",
      "Epoch 114/250\n",
      "7/7 [==============================] - 0s 3ms/step - loss: 0.5599 - accuracy: 0.7085\n",
      "Epoch 115/250\n",
      "7/7 [==============================] - 0s 3ms/step - loss: 0.5596 - accuracy: 0.7040\n",
      "Epoch 116/250\n",
      "7/7 [==============================] - 0s 3ms/step - loss: 0.5600 - accuracy: 0.7040\n",
      "Epoch 117/250\n",
      "7/7 [==============================] - 0s 3ms/step - loss: 0.5591 - accuracy: 0.7085\n",
      "Epoch 118/250\n",
      "7/7 [==============================] - 0s 3ms/step - loss: 0.5586 - accuracy: 0.7040\n",
      "Epoch 119/250\n",
      "7/7 [==============================] - 0s 3ms/step - loss: 0.5582 - accuracy: 0.7130\n",
      "Epoch 120/250\n",
      "7/7 [==============================] - 0s 3ms/step - loss: 0.5617 - accuracy: 0.7220\n",
      "Epoch 121/250\n",
      "7/7 [==============================] - 0s 3ms/step - loss: 0.5582 - accuracy: 0.7130\n",
      "Epoch 122/250\n",
      "7/7 [==============================] - 0s 3ms/step - loss: 0.5571 - accuracy: 0.7040\n",
      "Epoch 123/250\n",
      "7/7 [==============================] - 0s 3ms/step - loss: 0.5563 - accuracy: 0.7175\n",
      "Epoch 124/250\n",
      "7/7 [==============================] - 0s 3ms/step - loss: 0.5562 - accuracy: 0.7175\n",
      "Epoch 125/250\n",
      "7/7 [==============================] - 0s 3ms/step - loss: 0.5546 - accuracy: 0.7175\n",
      "Epoch 126/250\n",
      "7/7 [==============================] - 0s 3ms/step - loss: 0.5535 - accuracy: 0.7265\n",
      "Epoch 127/250\n",
      "7/7 [==============================] - 0s 2ms/step - loss: 0.5545 - accuracy: 0.7175\n",
      "Epoch 128/250\n",
      "7/7 [==============================] - 0s 3ms/step - loss: 0.5554 - accuracy: 0.7265\n",
      "Epoch 129/250\n",
      "7/7 [==============================] - 0s 3ms/step - loss: 0.5517 - accuracy: 0.7265\n",
      "Epoch 130/250\n",
      "7/7 [==============================] - 0s 3ms/step - loss: 0.5571 - accuracy: 0.6951\n",
      "Epoch 131/250\n",
      "7/7 [==============================] - 0s 3ms/step - loss: 0.5527 - accuracy: 0.7130\n",
      "Epoch 132/250\n",
      "7/7 [==============================] - 0s 3ms/step - loss: 0.5520 - accuracy: 0.7130\n",
      "Epoch 133/250\n",
      "7/7 [==============================] - 0s 3ms/step - loss: 0.5504 - accuracy: 0.7130\n",
      "Epoch 134/250\n",
      "7/7 [==============================] - 0s 3ms/step - loss: 0.5488 - accuracy: 0.7085\n",
      "Epoch 135/250\n",
      "7/7 [==============================] - 0s 3ms/step - loss: 0.5476 - accuracy: 0.7309\n",
      "Epoch 136/250\n",
      "7/7 [==============================] - 0s 3ms/step - loss: 0.5478 - accuracy: 0.7354\n",
      "Epoch 137/250\n",
      "7/7 [==============================] - 0s 3ms/step - loss: 0.5458 - accuracy: 0.7354\n",
      "Epoch 138/250\n",
      "7/7 [==============================] - 0s 3ms/step - loss: 0.5442 - accuracy: 0.7354\n",
      "Epoch 139/250\n",
      "7/7 [==============================] - 0s 3ms/step - loss: 0.5475 - accuracy: 0.7265\n",
      "Epoch 140/250\n",
      "7/7 [==============================] - 0s 2ms/step - loss: 0.5439 - accuracy: 0.7309\n",
      "Epoch 141/250\n",
      "7/7 [==============================] - 0s 3ms/step - loss: 0.5457 - accuracy: 0.7265\n",
      "Epoch 142/250\n",
      "7/7 [==============================] - 0s 3ms/step - loss: 0.5420 - accuracy: 0.7354\n",
      "Epoch 143/250\n",
      "7/7 [==============================] - 0s 3ms/step - loss: 0.5397 - accuracy: 0.7399\n",
      "Epoch 144/250\n",
      "7/7 [==============================] - 0s 3ms/step - loss: 0.5392 - accuracy: 0.7399\n",
      "Epoch 145/250\n",
      "7/7 [==============================] - 0s 3ms/step - loss: 0.5375 - accuracy: 0.7354\n",
      "Epoch 146/250\n",
      "7/7 [==============================] - 0s 3ms/step - loss: 0.5386 - accuracy: 0.7354\n",
      "Epoch 147/250\n",
      "7/7 [==============================] - 0s 3ms/step - loss: 0.5383 - accuracy: 0.7309\n",
      "Epoch 148/250\n",
      "7/7 [==============================] - 0s 2ms/step - loss: 0.5388 - accuracy: 0.7399\n",
      "Epoch 149/250\n",
      "7/7 [==============================] - 0s 3ms/step - loss: 0.5354 - accuracy: 0.7444\n",
      "Epoch 150/250\n",
      "7/7 [==============================] - 0s 3ms/step - loss: 0.5345 - accuracy: 0.7309\n",
      "Epoch 151/250\n",
      "7/7 [==============================] - 0s 3ms/step - loss: 0.5332 - accuracy: 0.7399\n",
      "Epoch 152/250\n",
      "7/7 [==============================] - 0s 3ms/step - loss: 0.5328 - accuracy: 0.7399\n",
      "Epoch 153/250\n",
      "7/7 [==============================] - 0s 3ms/step - loss: 0.5318 - accuracy: 0.7444\n",
      "Epoch 154/250\n",
      "7/7 [==============================] - 0s 3ms/step - loss: 0.5331 - accuracy: 0.7354\n",
      "Epoch 155/250\n",
      "7/7 [==============================] - 0s 3ms/step - loss: 0.5338 - accuracy: 0.7265\n",
      "Epoch 156/250\n",
      "7/7 [==============================] - 0s 3ms/step - loss: 0.5295 - accuracy: 0.7354\n",
      "Epoch 157/250\n",
      "7/7 [==============================] - 0s 3ms/step - loss: 0.5294 - accuracy: 0.7399\n",
      "Epoch 158/250\n",
      "7/7 [==============================] - 0s 2ms/step - loss: 0.5293 - accuracy: 0.7444\n",
      "Epoch 159/250\n",
      "7/7 [==============================] - 0s 3ms/step - loss: 0.5273 - accuracy: 0.7399\n",
      "Epoch 160/250\n",
      "7/7 [==============================] - 0s 3ms/step - loss: 0.5289 - accuracy: 0.7309\n",
      "Epoch 161/250\n",
      "7/7 [==============================] - 0s 3ms/step - loss: 0.5275 - accuracy: 0.7399\n",
      "Epoch 162/250\n",
      "7/7 [==============================] - 0s 3ms/step - loss: 0.5293 - accuracy: 0.7354\n",
      "Epoch 163/250\n",
      "7/7 [==============================] - 0s 3ms/step - loss: 0.5275 - accuracy: 0.7354\n",
      "Epoch 164/250\n",
      "7/7 [==============================] - 0s 3ms/step - loss: 0.5266 - accuracy: 0.7309\n",
      "Epoch 165/250\n",
      "7/7 [==============================] - 0s 3ms/step - loss: 0.5252 - accuracy: 0.7399\n",
      "Epoch 166/250\n",
      "7/7 [==============================] - 0s 3ms/step - loss: 0.5227 - accuracy: 0.7265\n",
      "Epoch 167/250\n"
     ]
    },
    {
     "name": "stdout",
     "output_type": "stream",
     "text": [
      "7/7 [==============================] - 0s 3ms/step - loss: 0.5244 - accuracy: 0.7309\n",
      "Epoch 168/250\n",
      "7/7 [==============================] - 0s 3ms/step - loss: 0.5219 - accuracy: 0.7354\n",
      "Epoch 169/250\n",
      "7/7 [==============================] - 0s 3ms/step - loss: 0.5221 - accuracy: 0.7399\n",
      "Epoch 170/250\n",
      "7/7 [==============================] - 0s 3ms/step - loss: 0.5224 - accuracy: 0.7399\n",
      "Epoch 171/250\n",
      "7/7 [==============================] - 0s 3ms/step - loss: 0.5214 - accuracy: 0.7354\n",
      "Epoch 172/250\n",
      "7/7 [==============================] - 0s 3ms/step - loss: 0.5205 - accuracy: 0.7354\n",
      "Epoch 173/250\n",
      "7/7 [==============================] - 0s 3ms/step - loss: 0.5199 - accuracy: 0.7444\n",
      "Epoch 174/250\n",
      "7/7 [==============================] - 0s 3ms/step - loss: 0.5188 - accuracy: 0.7444\n",
      "Epoch 175/250\n",
      "7/7 [==============================] - 0s 3ms/step - loss: 0.5200 - accuracy: 0.7309\n",
      "Epoch 176/250\n",
      "7/7 [==============================] - 0s 3ms/step - loss: 0.5208 - accuracy: 0.7354\n",
      "Epoch 177/250\n",
      "7/7 [==============================] - 0s 3ms/step - loss: 0.5184 - accuracy: 0.7399\n",
      "Epoch 178/250\n",
      "7/7 [==============================] - 0s 3ms/step - loss: 0.5185 - accuracy: 0.7354\n",
      "Epoch 179/250\n",
      "7/7 [==============================] - 0s 3ms/step - loss: 0.5154 - accuracy: 0.7399\n",
      "Epoch 180/250\n",
      "7/7 [==============================] - 0s 3ms/step - loss: 0.5149 - accuracy: 0.7354\n",
      "Epoch 181/250\n",
      "7/7 [==============================] - 0s 3ms/step - loss: 0.5142 - accuracy: 0.7399\n",
      "Epoch 182/250\n",
      "7/7 [==============================] - 0s 3ms/step - loss: 0.5145 - accuracy: 0.7444\n",
      "Epoch 183/250\n",
      "7/7 [==============================] - 0s 3ms/step - loss: 0.5119 - accuracy: 0.7354\n",
      "Epoch 184/250\n",
      "7/7 [==============================] - 0s 3ms/step - loss: 0.5133 - accuracy: 0.7399\n",
      "Epoch 185/250\n",
      "7/7 [==============================] - 0s 3ms/step - loss: 0.5113 - accuracy: 0.7354\n",
      "Epoch 186/250\n",
      "7/7 [==============================] - 0s 3ms/step - loss: 0.5130 - accuracy: 0.7309\n",
      "Epoch 187/250\n",
      "7/7 [==============================] - 0s 3ms/step - loss: 0.5114 - accuracy: 0.7399\n",
      "Epoch 188/250\n",
      "7/7 [==============================] - 0s 3ms/step - loss: 0.5110 - accuracy: 0.7444\n",
      "Epoch 189/250\n",
      "7/7 [==============================] - 0s 4ms/step - loss: 0.5084 - accuracy: 0.7444\n",
      "Epoch 190/250\n",
      "7/7 [==============================] - 0s 3ms/step - loss: 0.5085 - accuracy: 0.7399\n",
      "Epoch 191/250\n",
      "7/7 [==============================] - 0s 3ms/step - loss: 0.5068 - accuracy: 0.7489\n",
      "Epoch 192/250\n",
      "7/7 [==============================] - 0s 3ms/step - loss: 0.5173 - accuracy: 0.7354\n",
      "Epoch 193/250\n",
      "7/7 [==============================] - 0s 3ms/step - loss: 0.5140 - accuracy: 0.7309\n",
      "Epoch 194/250\n",
      "7/7 [==============================] - 0s 3ms/step - loss: 0.5123 - accuracy: 0.7399\n",
      "Epoch 195/250\n",
      "7/7 [==============================] - 0s 3ms/step - loss: 0.5076 - accuracy: 0.7354\n",
      "Epoch 196/250\n",
      "7/7 [==============================] - 0s 3ms/step - loss: 0.5042 - accuracy: 0.7444\n",
      "Epoch 197/250\n",
      "7/7 [==============================] - 0s 3ms/step - loss: 0.5039 - accuracy: 0.7399\n",
      "Epoch 198/250\n",
      "7/7 [==============================] - 0s 3ms/step - loss: 0.5040 - accuracy: 0.7444\n",
      "Epoch 199/250\n",
      "7/7 [==============================] - 0s 3ms/step - loss: 0.5068 - accuracy: 0.7444\n",
      "Epoch 200/250\n",
      "7/7 [==============================] - 0s 3ms/step - loss: 0.5047 - accuracy: 0.7489\n",
      "Epoch 201/250\n",
      "7/7 [==============================] - 0s 3ms/step - loss: 0.5027 - accuracy: 0.7489\n",
      "Epoch 202/250\n",
      "7/7 [==============================] - 0s 3ms/step - loss: 0.5053 - accuracy: 0.7399\n",
      "Epoch 203/250\n",
      "7/7 [==============================] - 0s 3ms/step - loss: 0.5008 - accuracy: 0.7489\n",
      "Epoch 204/250\n",
      "7/7 [==============================] - 0s 3ms/step - loss: 0.5076 - accuracy: 0.7399\n",
      "Epoch 205/250\n",
      "7/7 [==============================] - 0s 3ms/step - loss: 0.4985 - accuracy: 0.7534\n",
      "Epoch 206/250\n",
      "7/7 [==============================] - 0s 3ms/step - loss: 0.5026 - accuracy: 0.7444\n",
      "Epoch 207/250\n",
      "7/7 [==============================] - 0s 3ms/step - loss: 0.5004 - accuracy: 0.7534\n",
      "Epoch 208/250\n",
      "7/7 [==============================] - 0s 3ms/step - loss: 0.4969 - accuracy: 0.7489\n",
      "Epoch 209/250\n",
      "7/7 [==============================] - 0s 3ms/step - loss: 0.5029 - accuracy: 0.7354\n",
      "Epoch 210/250\n",
      "7/7 [==============================] - 0s 3ms/step - loss: 0.5031 - accuracy: 0.7534\n",
      "Epoch 211/250\n",
      "7/7 [==============================] - 0s 3ms/step - loss: 0.5018 - accuracy: 0.7444\n",
      "Epoch 212/250\n",
      "7/7 [==============================] - 0s 3ms/step - loss: 0.4971 - accuracy: 0.7444\n",
      "Epoch 213/250\n",
      "7/7 [==============================] - 0s 3ms/step - loss: 0.4950 - accuracy: 0.7489\n",
      "Epoch 214/250\n",
      "7/7 [==============================] - 0s 3ms/step - loss: 0.4943 - accuracy: 0.7534\n",
      "Epoch 215/250\n",
      "7/7 [==============================] - 0s 3ms/step - loss: 0.4941 - accuracy: 0.7534\n",
      "Epoch 216/250\n",
      "7/7 [==============================] - 0s 3ms/step - loss: 0.4931 - accuracy: 0.7534\n",
      "Epoch 217/250\n",
      "7/7 [==============================] - 0s 3ms/step - loss: 0.4941 - accuracy: 0.7534\n",
      "Epoch 218/250\n",
      "7/7 [==============================] - 0s 2ms/step - loss: 0.4996 - accuracy: 0.7444\n",
      "Epoch 219/250\n",
      "7/7 [==============================] - 0s 3ms/step - loss: 0.4983 - accuracy: 0.7534\n",
      "Epoch 220/250\n",
      "7/7 [==============================] - 0s 3ms/step - loss: 0.4900 - accuracy: 0.7489\n",
      "Epoch 221/250\n",
      "7/7 [==============================] - 0s 3ms/step - loss: 0.4900 - accuracy: 0.7534\n",
      "Epoch 222/250\n",
      "7/7 [==============================] - 0s 3ms/step - loss: 0.4889 - accuracy: 0.7534\n",
      "Epoch 223/250\n",
      "7/7 [==============================] - 0s 3ms/step - loss: 0.4894 - accuracy: 0.7578\n",
      "Epoch 224/250\n",
      "7/7 [==============================] - 0s 3ms/step - loss: 0.4878 - accuracy: 0.7534\n",
      "Epoch 225/250\n",
      "7/7 [==============================] - 0s 3ms/step - loss: 0.4874 - accuracy: 0.7534\n",
      "Epoch 226/250\n",
      "7/7 [==============================] - 0s 2ms/step - loss: 0.4876 - accuracy: 0.7534\n",
      "Epoch 227/250\n",
      "7/7 [==============================] - 0s 3ms/step - loss: 0.4890 - accuracy: 0.7534\n",
      "Epoch 228/250\n",
      "7/7 [==============================] - 0s 4ms/step - loss: 0.4937 - accuracy: 0.7578\n",
      "Epoch 229/250\n",
      "7/7 [==============================] - 0s 3ms/step - loss: 0.4839 - accuracy: 0.7534\n",
      "Epoch 230/250\n",
      "7/7 [==============================] - 0s 3ms/step - loss: 0.4878 - accuracy: 0.7489\n",
      "Epoch 231/250\n",
      "7/7 [==============================] - 0s 3ms/step - loss: 0.4859 - accuracy: 0.7489\n",
      "Epoch 232/250\n",
      "7/7 [==============================] - 0s 3ms/step - loss: 0.4844 - accuracy: 0.7489\n",
      "Epoch 233/250\n",
      "7/7 [==============================] - 0s 3ms/step - loss: 0.4841 - accuracy: 0.7578\n",
      "Epoch 234/250\n",
      "7/7 [==============================] - 0s 3ms/step - loss: 0.4839 - accuracy: 0.7623\n",
      "Epoch 235/250\n",
      "7/7 [==============================] - 0s 3ms/step - loss: 0.4838 - accuracy: 0.7668\n",
      "Epoch 236/250\n",
      "7/7 [==============================] - 0s 3ms/step - loss: 0.4830 - accuracy: 0.7623\n",
      "Epoch 237/250\n",
      "7/7 [==============================] - 0s 3ms/step - loss: 0.4807 - accuracy: 0.7623\n",
      "Epoch 238/250\n",
      "7/7 [==============================] - 0s 3ms/step - loss: 0.4808 - accuracy: 0.7623\n",
      "Epoch 239/250\n",
      "7/7 [==============================] - 0s 2ms/step - loss: 0.4811 - accuracy: 0.7623\n",
      "Epoch 240/250\n",
      "7/7 [==============================] - 0s 3ms/step - loss: 0.4825 - accuracy: 0.7578\n",
      "Epoch 241/250\n",
      "7/7 [==============================] - 0s 3ms/step - loss: 0.4833 - accuracy: 0.7534\n",
      "Epoch 242/250\n",
      "7/7 [==============================] - 0s 3ms/step - loss: 0.4784 - accuracy: 0.7623\n",
      "Epoch 243/250\n",
      "7/7 [==============================] - 0s 3ms/step - loss: 0.4801 - accuracy: 0.7578\n",
      "Epoch 244/250\n",
      "7/7 [==============================] - 0s 3ms/step - loss: 0.4787 - accuracy: 0.7623\n",
      "Epoch 245/250\n",
      "7/7 [==============================] - 0s 3ms/step - loss: 0.4777 - accuracy: 0.7578\n",
      "Epoch 246/250\n",
      "7/7 [==============================] - 0s 3ms/step - loss: 0.4778 - accuracy: 0.7534\n",
      "Epoch 247/250\n",
      "7/7 [==============================] - 0s 3ms/step - loss: 0.4821 - accuracy: 0.7444\n",
      "Epoch 248/250\n",
      "7/7 [==============================] - 0s 3ms/step - loss: 0.4819 - accuracy: 0.7623\n",
      "Epoch 249/250\n"
     ]
    },
    {
     "name": "stdout",
     "output_type": "stream",
     "text": [
      "7/7 [==============================] - 0s 3ms/step - loss: 0.4768 - accuracy: 0.7668\n",
      "Epoch 250/250\n",
      "7/7 [==============================] - 0s 3ms/step - loss: 0.4753 - accuracy: 0.7489\n"
     ]
    },
    {
     "data": {
      "text/plain": [
       "<keras.callbacks.History at 0x7f5ba0111e40>"
      ]
     },
     "execution_count": 40,
     "metadata": {},
     "output_type": "execute_result"
    }
   ],
   "source": [
    "model.fit(X_train, y_train, epochs=250, verbose = 1)"
   ]
  },
  {
   "cell_type": "markdown",
   "id": "a7df7193",
   "metadata": {},
   "source": [
    "We compile the model with an appropriate **optimizer**, a **loss function**, and an **evaluation metric**. \n",
    "\n",
    "After compiling the model, we fit it into the training set and set the epoch count to `250 epochs`.\n",
    "\n",
    "## Model Evaluation"
   ]
  },
  {
   "cell_type": "code",
   "execution_count": 41,
   "id": "a4e6cfd2",
   "metadata": {},
   "outputs": [
    {
     "name": "stdout",
     "output_type": "stream",
     "text": [
      "7/7 [==============================] - 0s 1ms/step - loss: 0.4736 - accuracy: 0.7578\n"
     ]
    },
    {
     "data": {
      "text/plain": [
       "[0.47356510162353516, 0.7578475475311279]"
      ]
     },
     "execution_count": 41,
     "metadata": {},
     "output_type": "execute_result"
    }
   ],
   "source": [
    "model.evaluate(X_train, y_train)"
   ]
  },
  {
   "cell_type": "code",
   "execution_count": 42,
   "id": "6b30d779",
   "metadata": {},
   "outputs": [
    {
     "name": "stdout",
     "output_type": "stream",
     "text": [
      "3/3 [==============================] - 0s 2ms/step - loss: 0.7637 - accuracy: 0.6771\n"
     ]
    },
    {
     "data": {
      "text/plain": [
       "[0.7637489438056946, 0.6770833134651184]"
      ]
     },
     "execution_count": 42,
     "metadata": {},
     "output_type": "execute_result"
    }
   ],
   "source": [
    "model.evaluate(X_test, y_test)"
   ]
  },
  {
   "cell_type": "markdown",
   "id": "8dbee060",
   "metadata": {},
   "source": [
    "1. **Loss and accuracy in the training set**: - The loss in the training set is relatively low (0.513), suggesting that the model is making good predictions in the training data. - The accuracy in the training set is moderately high (approximately 73%), indicating that the model is correctly classifying a significant number of samples in the training data.\n",
    "\n",
    "\n",
    "2. **Loss and Accuracy in Test Set**: - Loss in the test set is higher than in the training set, but still moderate (about 0.703), suggesting that the model generalizes reasonably well to new and unseen data during training. - The accuracy in the test set is relatively high (approximately 68.75%), indicating that the model is correctly classifying a significant number of samples in the test data.\n",
    "\n",
    "## Conclusion\n",
    "\n",
    "Overall, the values you provided suggest that the model is performing decently on both datasets, both in training and testing. However, there is a slight discrepancy between loss and accuracy between the training and test sets, indicating that there could be some degree of overfitting, but it is not extreme. \n",
    "\n",
    "My opinion would be that the model seems to be learning patterns from the training data and reasonably generalizing to unseen data. However, this is just one of many ways to model this solution and it is always useful to investigate ways to further improve model performance, such as exploring different model architectures, tuning parameters, applying regularization techniques, or performing more careful feature selection.\n",
    "\n",
    "This could help further reduce the discrepancy between training and test performance and improve the model's ability to generalize to new and unseen data.\n",
    "\n",
    "In this project, we have created a deep learning classification model using the deep learning framework, Keras, in TensorFlow. We use a set of real-world IPO data and build a classifier algorithm to predict whether an IPO will trade at a profit or not. \n",
    "\n",
    "We used the sequential API to build the model, which is achieving decent accuracy of 75% and 74% on training and test data, respectively. We see that accuracy is consistent across all training and test datasets, which is a promising sign."
   ]
  }
 ],
 "metadata": {
  "kernelspec": {
   "display_name": "Python 3 (ipykernel)",
   "language": "python",
   "name": "python3"
  },
  "language_info": {
   "codemirror_mode": {
    "name": "ipython",
    "version": 3
   },
   "file_extension": ".py",
   "mimetype": "text/x-python",
   "name": "python",
   "nbconvert_exporter": "python",
   "pygments_lexer": "ipython3",
   "version": "3.10.12"
  }
 },
 "nbformat": 4,
 "nbformat_minor": 5
}
